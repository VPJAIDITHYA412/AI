{
 "cells": [
  {
   "cell_type": "code",
   "execution_count": null,
   "id": "503454ba-d752-4233-a12a-5d9b8d38ec29",
   "metadata": {},
   "outputs": [],
   "source": [
    "#1 question\n",
    "Start\n",
    "  │\n",
    "  ├── Hardware Components\n",
    "  │   ├── Sensors (Cameras, LiDAR, Microphones, IMUs, Touch Sensors)\n",
    "  │   ├── Actuators (Motors, Servos, Hydraulics)\n",
    "  │   ├── Processing Unit (CPU, GPU, Edge AI)\n",
    "  │   ├── Power System (Battery, Power Management)\n",
    "  │\n",
    "  ├── Perception System\n",
    "  │   ├── Computer Vision (OpenCV, TensorFlow, YOLO, Depth Cameras)\n",
    "  │   ├── Speech Recognition (Google ASR, Whisper, Vosk)\n",
    "  │   ├── Object Detection (Deep Learning, CNNs, YOLO, Faster R-CNN)\n",
    "  │   ├── Face & Emotion Recognition (Dlib, DeepFace, OpenFace)\n",
    "  │\n",
    "  ├── Movement & Navigation\n",
    "  │   ├── Path Planning (A*, Dijkstra, RRT)\n",
    "  │   ├── SLAM (Simultaneous Localization and Mapping) (Google Cartographer, ROS SLAM)\n",
    "  │   ├── Motor Control (PID Controllers, Inverse Kinematics)\n",
    "  │\n",
    "  ├── Interaction & Communication\n",
    "  │   ├── Natural Language Processing (GPT, BERT, Rasa, Dialogflow)\n",
    "  │   ├── Text-to-Speech (Google TTS, Amazon Polly, Festival)\n",
    "  │   ├── Conversational AI (ChatGPT, IBM Watson)\n",
    "  │\n",
    "  ├── Learning & Adaptation\n",
    "  │   ├── Reinforcement Learning (OpenAI Gym, TensorFlow RL)\n",
    "  │   ├── Federated Learning (Edge AI with TensorFlow Lite, PyTorch Mobile)\n",
    "  │   ├── Continuous Learning (AutoML, Edge AI)\n",
    "  │\n",
    "  ├── Software Frameworks\n",
    "  │   ├── Robot Operating System (ROS, ROS2)\n",
    "  │   ├── AI Frameworks (TensorFlow, PyTorch, OpenAI)\n",
    "  │   ├── Middleware (MQTT, ZeroMQ, WebSockets)\n",
    "  │   ├── Cloud Integration (AWS IoT, Azure Robotics, Google Cloud)\n",
    "  │\n",
    "  └── User Interface & Control\n",
    "      ├── Mobile App (Flutter, React Native)\n",
    "      ├── Web Dashboard (React, Node.js, WebRTC)\n",
    "      ├── Voice Commands (Alexa, Google Assistant)\n",
    "      ├── Gesture Recognition (MediaPipe, OpenPose)\n",
    "  │\n",
    "End\n"
   ]
  },
  {
   "cell_type": "code",
   "execution_count": 1,
   "id": "2e74d921-db02-4ab3-b643-735912c972cc",
   "metadata": {},
   "outputs": [
    {
     "name": "stdout",
     "output_type": "stream",
     "text": [
      "mean:  22.3 \n",
      "\n",
      "median:  21.0 \n",
      "\n",
      "mode:  15 \n",
      "\n",
      "variance:  40.67777777777778 \n",
      "\n",
      "standard deviation:  22.3\n"
     ]
    }
   ],
   "source": [
    "#2 Question\n",
    "import pandas as pd\n",
    "df=[15,21,29,21,15,24,32,21,15,30]\n",
    "df_series=pd.Series(df)\n",
    "a=df_series.mean()\n",
    "print(\"mean: \",a,\"\\n\")\n",
    "b=df_series.median()\n",
    "print(\"median: \",b,\"\\n\")\n",
    "c=df_series.mode()[0]\n",
    "print(\"mode: \",c,\"\\n\")\n",
    "d=df_series.var()\n",
    "print(\"variance: \",d,\"\\n\")\n",
    "e=df_series.std()\n",
    "print(\"standard deviation: \",a)"
   ]
  },
  {
   "cell_type": "code",
   "execution_count": 55,
   "id": "ca611e1f-b48e-4488-b5b1-c962650fb8d3",
   "metadata": {},
   "outputs": [
    {
     "data": {
      "text/html": [
       "<div>\n",
       "<style scoped>\n",
       "    .dataframe tbody tr th:only-of-type {\n",
       "        vertical-align: middle;\n",
       "    }\n",
       "\n",
       "    .dataframe tbody tr th {\n",
       "        vertical-align: top;\n",
       "    }\n",
       "\n",
       "    .dataframe thead th {\n",
       "        text-align: right;\n",
       "    }\n",
       "</style>\n",
       "<table border=\"1\" class=\"dataframe\">\n",
       "  <thead>\n",
       "    <tr style=\"text-align: right;\">\n",
       "      <th></th>\n",
       "      <th>Robot_ID</th>\n",
       "      <th>Task_Type</th>\n",
       "      <th>Component_ID</th>\n",
       "      <th>Sensor_Type</th>\n",
       "      <th>Sensor_Data</th>\n",
       "      <th>Processing_Time (s)</th>\n",
       "      <th>Accuracy (%)</th>\n",
       "      <th>Environmental_Status</th>\n",
       "      <th>Energy_Consumption (kWh)</th>\n",
       "      <th>Human_Intervention_Needed</th>\n",
       "      <th>Obstacle_Detected</th>\n",
       "      <th>Defect_Detected</th>\n",
       "      <th>Interaction_Count</th>\n",
       "      <th>Steps_Walked</th>\n",
       "      <th>Objects_Recognized</th>\n",
       "      <th>Learning_Sessions</th>\n",
       "      <th>Energy_Consumption (kWh).1</th>\n",
       "    </tr>\n",
       "  </thead>\n",
       "  <tbody>\n",
       "    <tr>\n",
       "      <th>0</th>\n",
       "      <td>RBT_001</td>\n",
       "      <td>Inspection</td>\n",
       "      <td>CMP_460</td>\n",
       "      <td>LIDAR</td>\n",
       "      <td>1 (obstacle detected)</td>\n",
       "      <td>67.0</td>\n",
       "      <td>90.4</td>\n",
       "      <td>Stable</td>\n",
       "      <td>2.2</td>\n",
       "      <td>No</td>\n",
       "      <td>Yes</td>\n",
       "      <td>Yes</td>\n",
       "      <td>2</td>\n",
       "      <td>10</td>\n",
       "      <td>2</td>\n",
       "      <td>10</td>\n",
       "      <td>100</td>\n",
       "    </tr>\n",
       "    <tr>\n",
       "      <th>1</th>\n",
       "      <td>RBT_002</td>\n",
       "      <td>Assembly</td>\n",
       "      <td>CMP_252</td>\n",
       "      <td>Thermal</td>\n",
       "      <td>85.3 (°C)</td>\n",
       "      <td>71.2</td>\n",
       "      <td>98.1</td>\n",
       "      <td>Stable</td>\n",
       "      <td>2.7</td>\n",
       "      <td>Yes</td>\n",
       "      <td>No</td>\n",
       "      <td>No</td>\n",
       "      <td>6</td>\n",
       "      <td>23</td>\n",
       "      <td>4</td>\n",
       "      <td>12</td>\n",
       "      <td>123</td>\n",
       "    </tr>\n",
       "    <tr>\n",
       "      <th>2</th>\n",
       "      <td>RBT_003</td>\n",
       "      <td>Inspection</td>\n",
       "      <td>CMP_248</td>\n",
       "      <td>Thermal</td>\n",
       "      <td>92% (visual fit)</td>\n",
       "      <td>49.2</td>\n",
       "      <td>95.3</td>\n",
       "      <td>Unstable</td>\n",
       "      <td>2.4</td>\n",
       "      <td>No</td>\n",
       "      <td>No</td>\n",
       "      <td>No</td>\n",
       "      <td>2</td>\n",
       "      <td>25</td>\n",
       "      <td>3</td>\n",
       "      <td>45</td>\n",
       "      <td>321</td>\n",
       "    </tr>\n",
       "    <tr>\n",
       "      <th>3</th>\n",
       "      <td>RBT_004</td>\n",
       "      <td>Welding</td>\n",
       "      <td>CMP_433</td>\n",
       "      <td>Camera</td>\n",
       "      <td>98% (defect-free)</td>\n",
       "      <td>74.5</td>\n",
       "      <td>90.2</td>\n",
       "      <td>Stable</td>\n",
       "      <td>2.4</td>\n",
       "      <td>Yes</td>\n",
       "      <td>No</td>\n",
       "      <td>Yes</td>\n",
       "      <td>7</td>\n",
       "      <td>34</td>\n",
       "      <td>5</td>\n",
       "      <td>12</td>\n",
       "      <td>456</td>\n",
       "    </tr>\n",
       "    <tr>\n",
       "      <th>4</th>\n",
       "      <td>RBT_005</td>\n",
       "      <td>Assembly</td>\n",
       "      <td>CMP_992</td>\n",
       "      <td>Camera</td>\n",
       "      <td>92% (visual fit)</td>\n",
       "      <td>64.5</td>\n",
       "      <td>97.2</td>\n",
       "      <td>Unstable</td>\n",
       "      <td>1.8</td>\n",
       "      <td>No</td>\n",
       "      <td>No</td>\n",
       "      <td>No</td>\n",
       "      <td>8</td>\n",
       "      <td>35</td>\n",
       "      <td>3</td>\n",
       "      <td>32</td>\n",
       "      <td>654</td>\n",
       "    </tr>\n",
       "    <tr>\n",
       "      <th>...</th>\n",
       "      <td>...</td>\n",
       "      <td>...</td>\n",
       "      <td>...</td>\n",
       "      <td>...</td>\n",
       "      <td>...</td>\n",
       "      <td>...</td>\n",
       "      <td>...</td>\n",
       "      <td>...</td>\n",
       "      <td>...</td>\n",
       "      <td>...</td>\n",
       "      <td>...</td>\n",
       "      <td>...</td>\n",
       "      <td>...</td>\n",
       "      <td>...</td>\n",
       "      <td>...</td>\n",
       "      <td>...</td>\n",
       "      <td>...</td>\n",
       "    </tr>\n",
       "    <tr>\n",
       "      <th>495</th>\n",
       "      <td>RBT_496</td>\n",
       "      <td>Inspection</td>\n",
       "      <td>CMP_834</td>\n",
       "      <td>LIDAR</td>\n",
       "      <td>85.3 (°C)</td>\n",
       "      <td>66.3</td>\n",
       "      <td>96.2</td>\n",
       "      <td>Unstable</td>\n",
       "      <td>1.3</td>\n",
       "      <td>No</td>\n",
       "      <td>Yes</td>\n",
       "      <td>No</td>\n",
       "      <td>4</td>\n",
       "      <td>49</td>\n",
       "      <td>4</td>\n",
       "      <td>49</td>\n",
       "      <td>130</td>\n",
       "    </tr>\n",
       "    <tr>\n",
       "      <th>496</th>\n",
       "      <td>RBT_497</td>\n",
       "      <td>Inspection</td>\n",
       "      <td>CMP_851</td>\n",
       "      <td>LIDAR</td>\n",
       "      <td>92% (visual fit)</td>\n",
       "      <td>45.1</td>\n",
       "      <td>92.8</td>\n",
       "      <td>Unstable</td>\n",
       "      <td>2.3</td>\n",
       "      <td>No</td>\n",
       "      <td>Yes</td>\n",
       "      <td>Yes</td>\n",
       "      <td>5</td>\n",
       "      <td>43</td>\n",
       "      <td>8</td>\n",
       "      <td>56</td>\n",
       "      <td>124</td>\n",
       "    </tr>\n",
       "    <tr>\n",
       "      <th>497</th>\n",
       "      <td>RBT_498</td>\n",
       "      <td>Inspection</td>\n",
       "      <td>CMP_657</td>\n",
       "      <td>LIDAR</td>\n",
       "      <td>82.4 (°C)</td>\n",
       "      <td>75.4</td>\n",
       "      <td>98.7</td>\n",
       "      <td>Unstable</td>\n",
       "      <td>2.6</td>\n",
       "      <td>Yes</td>\n",
       "      <td>No</td>\n",
       "      <td>No</td>\n",
       "      <td>6</td>\n",
       "      <td>23</td>\n",
       "      <td>9</td>\n",
       "      <td>23</td>\n",
       "      <td>107</td>\n",
       "    </tr>\n",
       "    <tr>\n",
       "      <th>498</th>\n",
       "      <td>RBT_499</td>\n",
       "      <td>Assembly</td>\n",
       "      <td>CMP_562</td>\n",
       "      <td>Camera</td>\n",
       "      <td>98% (defect-free)</td>\n",
       "      <td>48.7</td>\n",
       "      <td>94.9</td>\n",
       "      <td>Stable</td>\n",
       "      <td>2.2</td>\n",
       "      <td>No</td>\n",
       "      <td>Yes</td>\n",
       "      <td>No</td>\n",
       "      <td>4</td>\n",
       "      <td>31</td>\n",
       "      <td>3</td>\n",
       "      <td>45</td>\n",
       "      <td>108</td>\n",
       "    </tr>\n",
       "    <tr>\n",
       "      <th>499</th>\n",
       "      <td>RBT_500</td>\n",
       "      <td>Assembly</td>\n",
       "      <td>CMP_465</td>\n",
       "      <td>LIDAR + Camera</td>\n",
       "      <td>75.8 (°C)</td>\n",
       "      <td>73.5</td>\n",
       "      <td>91.4</td>\n",
       "      <td>Stable</td>\n",
       "      <td>2.0</td>\n",
       "      <td>Yes</td>\n",
       "      <td>No</td>\n",
       "      <td>Yes</td>\n",
       "      <td>5</td>\n",
       "      <td>49</td>\n",
       "      <td>2</td>\n",
       "      <td>78</td>\n",
       "      <td>109</td>\n",
       "    </tr>\n",
       "  </tbody>\n",
       "</table>\n",
       "<p>500 rows × 17 columns</p>\n",
       "</div>"
      ],
      "text/plain": [
       "    Robot_ID   Task_Type Component_ID     Sensor_Type            Sensor_Data  \\\n",
       "0    RBT_001  Inspection      CMP_460           LIDAR  1 (obstacle detected)   \n",
       "1    RBT_002    Assembly      CMP_252         Thermal              85.3 (°C)   \n",
       "2    RBT_003  Inspection      CMP_248         Thermal       92% (visual fit)   \n",
       "3    RBT_004     Welding      CMP_433          Camera      98% (defect-free)   \n",
       "4    RBT_005    Assembly      CMP_992          Camera       92% (visual fit)   \n",
       "..       ...         ...          ...             ...                    ...   \n",
       "495  RBT_496  Inspection      CMP_834           LIDAR              85.3 (°C)   \n",
       "496  RBT_497  Inspection      CMP_851           LIDAR       92% (visual fit)   \n",
       "497  RBT_498  Inspection      CMP_657           LIDAR              82.4 (°C)   \n",
       "498  RBT_499    Assembly      CMP_562          Camera      98% (defect-free)   \n",
       "499  RBT_500    Assembly      CMP_465  LIDAR + Camera              75.8 (°C)   \n",
       "\n",
       "     Processing_Time (s)  Accuracy (%) Environmental_Status  \\\n",
       "0                   67.0          90.4               Stable   \n",
       "1                   71.2          98.1               Stable   \n",
       "2                   49.2          95.3             Unstable   \n",
       "3                   74.5          90.2               Stable   \n",
       "4                   64.5          97.2             Unstable   \n",
       "..                   ...           ...                  ...   \n",
       "495                 66.3          96.2             Unstable   \n",
       "496                 45.1          92.8             Unstable   \n",
       "497                 75.4          98.7             Unstable   \n",
       "498                 48.7          94.9               Stable   \n",
       "499                 73.5          91.4               Stable   \n",
       "\n",
       "     Energy_Consumption (kWh) Human_Intervention_Needed Obstacle_Detected  \\\n",
       "0                         2.2                        No               Yes   \n",
       "1                         2.7                       Yes                No   \n",
       "2                         2.4                        No                No   \n",
       "3                         2.4                       Yes                No   \n",
       "4                         1.8                        No                No   \n",
       "..                        ...                       ...               ...   \n",
       "495                       1.3                        No               Yes   \n",
       "496                       2.3                        No               Yes   \n",
       "497                       2.6                       Yes                No   \n",
       "498                       2.2                        No               Yes   \n",
       "499                       2.0                       Yes                No   \n",
       "\n",
       "    Defect_Detected  Interaction_Count  Steps_Walked  Objects_Recognized  \\\n",
       "0               Yes                  2            10                   2   \n",
       "1                No                  6            23                   4   \n",
       "2                No                  2            25                   3   \n",
       "3               Yes                  7            34                   5   \n",
       "4                No                  8            35                   3   \n",
       "..              ...                ...           ...                 ...   \n",
       "495              No                  4            49                   4   \n",
       "496             Yes                  5            43                   8   \n",
       "497              No                  6            23                   9   \n",
       "498              No                  4            31                   3   \n",
       "499             Yes                  5            49                   2   \n",
       "\n",
       "     Learning_Sessions  Energy_Consumption (kWh).1  \n",
       "0                   10                         100  \n",
       "1                   12                         123  \n",
       "2                   45                         321  \n",
       "3                   12                         456  \n",
       "4                   32                         654  \n",
       "..                 ...                         ...  \n",
       "495                 49                         130  \n",
       "496                 56                         124  \n",
       "497                 23                         107  \n",
       "498                 45                         108  \n",
       "499                 78                         109  \n",
       "\n",
       "[500 rows x 17 columns]"
      ]
     },
     "execution_count": 55,
     "metadata": {},
     "output_type": "execute_result"
    }
   ],
   "source": [
    "#3 question\n",
    "import pandas as pd\n",
    "df=pd.read_csv(\"robot_dataset(robot_dataset)_1(in).csv\")\n",
    "df"
   ]
  },
  {
   "cell_type": "code",
   "execution_count": 57,
   "id": "05402f5d-e11c-4e18-a7e4-87e25bc540b0",
   "metadata": {},
   "outputs": [
    {
     "name": "stdout",
     "output_type": "stream",
     "text": [
      "<class 'pandas.core.frame.DataFrame'>\n",
      "RangeIndex: 500 entries, 0 to 499\n",
      "Data columns (total 17 columns):\n",
      " #   Column                      Non-Null Count  Dtype  \n",
      "---  ------                      --------------  -----  \n",
      " 0   Robot_ID                    500 non-null    object \n",
      " 1   Task_Type                   500 non-null    object \n",
      " 2   Component_ID                500 non-null    object \n",
      " 3   Sensor_Type                 500 non-null    object \n",
      " 4   Sensor_Data                 500 non-null    object \n",
      " 5   Processing_Time (s)         500 non-null    float64\n",
      " 6   Accuracy (%)                500 non-null    float64\n",
      " 7   Environmental_Status        500 non-null    object \n",
      " 8   Energy_Consumption (kWh)    500 non-null    float64\n",
      " 9   Human_Intervention_Needed   500 non-null    object \n",
      " 10  Obstacle_Detected           500 non-null    object \n",
      " 11  Defect_Detected             500 non-null    object \n",
      " 12  Interaction_Count           500 non-null    int64  \n",
      " 13  Steps_Walked                500 non-null    int64  \n",
      " 14  Objects_Recognized          500 non-null    int64  \n",
      " 15  Learning_Sessions           500 non-null    int64  \n",
      " 16  Energy_Consumption (kWh).1  500 non-null    int64  \n",
      "dtypes: float64(3), int64(5), object(9)\n",
      "memory usage: 66.5+ KB\n"
     ]
    }
   ],
   "source": [
    "df.info()"
   ]
  },
  {
   "cell_type": "code",
   "execution_count": 59,
   "id": "c99384f5-d1f2-4877-bcbe-702623cd43b2",
   "metadata": {},
   "outputs": [
    {
     "data": {
      "text/html": [
       "<div>\n",
       "<style scoped>\n",
       "    .dataframe tbody tr th:only-of-type {\n",
       "        vertical-align: middle;\n",
       "    }\n",
       "\n",
       "    .dataframe tbody tr th {\n",
       "        vertical-align: top;\n",
       "    }\n",
       "\n",
       "    .dataframe thead th {\n",
       "        text-align: right;\n",
       "    }\n",
       "</style>\n",
       "<table border=\"1\" class=\"dataframe\">\n",
       "  <thead>\n",
       "    <tr style=\"text-align: right;\">\n",
       "      <th></th>\n",
       "      <th>Processing_Time (s)</th>\n",
       "      <th>Accuracy (%)</th>\n",
       "      <th>Energy_Consumption (kWh)</th>\n",
       "      <th>Interaction_Count</th>\n",
       "      <th>Steps_Walked</th>\n",
       "      <th>Objects_Recognized</th>\n",
       "      <th>Learning_Sessions</th>\n",
       "      <th>Energy_Consumption (kWh).1</th>\n",
       "    </tr>\n",
       "  </thead>\n",
       "  <tbody>\n",
       "    <tr>\n",
       "      <th>count</th>\n",
       "      <td>500.000000</td>\n",
       "      <td>500.000000</td>\n",
       "      <td>500.000000</td>\n",
       "      <td>500.000000</td>\n",
       "      <td>500.000000</td>\n",
       "      <td>500.000000</td>\n",
       "      <td>500.000000</td>\n",
       "      <td>500.000000</td>\n",
       "    </tr>\n",
       "    <tr>\n",
       "      <th>mean</th>\n",
       "      <td>59.937000</td>\n",
       "      <td>94.920600</td>\n",
       "      <td>2.014000</td>\n",
       "      <td>5.510000</td>\n",
       "      <td>28.758000</td>\n",
       "      <td>4.650000</td>\n",
       "      <td>35.960000</td>\n",
       "      <td>236.250000</td>\n",
       "    </tr>\n",
       "    <tr>\n",
       "      <th>std</th>\n",
       "      <td>11.688808</td>\n",
       "      <td>2.900949</td>\n",
       "      <td>0.582789</td>\n",
       "      <td>2.486416</td>\n",
       "      <td>11.094757</td>\n",
       "      <td>2.521948</td>\n",
       "      <td>19.797532</td>\n",
       "      <td>146.681008</td>\n",
       "    </tr>\n",
       "    <tr>\n",
       "      <th>min</th>\n",
       "      <td>40.100000</td>\n",
       "      <td>90.000000</td>\n",
       "      <td>1.000000</td>\n",
       "      <td>0.000000</td>\n",
       "      <td>0.000000</td>\n",
       "      <td>0.000000</td>\n",
       "      <td>10.000000</td>\n",
       "      <td>100.000000</td>\n",
       "    </tr>\n",
       "    <tr>\n",
       "      <th>25%</th>\n",
       "      <td>49.675000</td>\n",
       "      <td>92.500000</td>\n",
       "      <td>1.500000</td>\n",
       "      <td>3.000000</td>\n",
       "      <td>22.000000</td>\n",
       "      <td>2.750000</td>\n",
       "      <td>20.000000</td>\n",
       "      <td>119.500000</td>\n",
       "    </tr>\n",
       "    <tr>\n",
       "      <th>50%</th>\n",
       "      <td>59.600000</td>\n",
       "      <td>94.900000</td>\n",
       "      <td>2.000000</td>\n",
       "      <td>6.000000</td>\n",
       "      <td>29.000000</td>\n",
       "      <td>5.000000</td>\n",
       "      <td>31.000000</td>\n",
       "      <td>181.500000</td>\n",
       "    </tr>\n",
       "    <tr>\n",
       "      <th>75%</th>\n",
       "      <td>70.000000</td>\n",
       "      <td>97.500000</td>\n",
       "      <td>2.500000</td>\n",
       "      <td>7.000000</td>\n",
       "      <td>36.000000</td>\n",
       "      <td>7.000000</td>\n",
       "      <td>49.000000</td>\n",
       "      <td>320.250000</td>\n",
       "    </tr>\n",
       "    <tr>\n",
       "      <th>max</th>\n",
       "      <td>80.000000</td>\n",
       "      <td>99.900000</td>\n",
       "      <td>3.000000</td>\n",
       "      <td>12.000000</td>\n",
       "      <td>49.000000</td>\n",
       "      <td>9.000000</td>\n",
       "      <td>91.000000</td>\n",
       "      <td>654.000000</td>\n",
       "    </tr>\n",
       "  </tbody>\n",
       "</table>\n",
       "</div>"
      ],
      "text/plain": [
       "       Processing_Time (s)  Accuracy (%)  Energy_Consumption (kWh)  \\\n",
       "count           500.000000    500.000000                500.000000   \n",
       "mean             59.937000     94.920600                  2.014000   \n",
       "std              11.688808      2.900949                  0.582789   \n",
       "min              40.100000     90.000000                  1.000000   \n",
       "25%              49.675000     92.500000                  1.500000   \n",
       "50%              59.600000     94.900000                  2.000000   \n",
       "75%              70.000000     97.500000                  2.500000   \n",
       "max              80.000000     99.900000                  3.000000   \n",
       "\n",
       "       Interaction_Count  Steps_Walked  Objects_Recognized  Learning_Sessions  \\\n",
       "count         500.000000    500.000000          500.000000         500.000000   \n",
       "mean            5.510000     28.758000            4.650000          35.960000   \n",
       "std             2.486416     11.094757            2.521948          19.797532   \n",
       "min             0.000000      0.000000            0.000000          10.000000   \n",
       "25%             3.000000     22.000000            2.750000          20.000000   \n",
       "50%             6.000000     29.000000            5.000000          31.000000   \n",
       "75%             7.000000     36.000000            7.000000          49.000000   \n",
       "max            12.000000     49.000000            9.000000          91.000000   \n",
       "\n",
       "       Energy_Consumption (kWh).1  \n",
       "count                  500.000000  \n",
       "mean                   236.250000  \n",
       "std                    146.681008  \n",
       "min                    100.000000  \n",
       "25%                    119.500000  \n",
       "50%                    181.500000  \n",
       "75%                    320.250000  \n",
       "max                    654.000000  "
      ]
     },
     "execution_count": 59,
     "metadata": {},
     "output_type": "execute_result"
    }
   ],
   "source": [
    "df.describe()"
   ]
  },
  {
   "cell_type": "code",
   "execution_count": 61,
   "id": "23676703-a169-492f-bdd0-81fa253ab2d6",
   "metadata": {},
   "outputs": [
    {
     "name": "stdout",
     "output_type": "stream",
     "text": [
      "Correlation between steps and energy consumption: 0.0015478137393314443\n"
     ]
    }
   ],
   "source": [
    "correlation = df['Steps_Walked'].corr(df['Energy_Consumption (kWh)']) #correlation between the number of steps walked and energy consumption.\n",
    "print(\"Correlation between steps and energy consumption:\", correlation)"
   ]
  },
  {
   "cell_type": "code",
   "execution_count": 64,
   "id": "9448f414-8fe4-4700-963c-d188d0271ff4",
   "metadata": {},
   "outputs": [
    {
     "data": {
      "text/plain": [
       "<Axes: title={'center': 'Distribution of Objects Recognized Daily'}, ylabel='Frequency'>"
      ]
     },
     "execution_count": 64,
     "metadata": {},
     "output_type": "execute_result"
    },
    {
     "data": {
      "image/png": "[encoded data removed]",
      "text/plain": [
       "<Figure size 640x480 with 1 Axes>"
      ]
     },
     "metadata": {},
     "output_type": "display_data"
    }
   ],
   "source": [
    "#distribution of objects recognized daily (Histogram plot).\n",
    "df['Objects_Recognized'].plot(kind='hist', bins=30, edgecolor='black', title='Distribution of Objects Recognized Daily')"
   ]
  },
  {
   "cell_type": "code",
   "execution_count": 66,
   "id": "538fff10-ead0-4584-9984-16b799387725",
   "metadata": {},
   "outputs": [
    {
     "name": "stdout",
     "output_type": "stream",
     "text": [
      "Variance in the number of learning sessions: 391.9422845691385\n"
     ]
    }
   ],
   "source": [
    "#variance in the number of learning sessions.\n",
    "variance = df['Learning_Sessions'].var()\n",
    "print(\"Variance in the number of learning sessions:\", variance)"
   ]
  },
  {
   "cell_type": "code",
   "execution_count": 3,
   "id": "c0a0f32c-9ada-4942-83ae-7354f9730cfd",
   "metadata": {},
   "outputs": [
    {
     "name": "stdout",
     "output_type": "stream",
     "text": [
      "Hello, my name is JAIDITHYA. I am 20 years old, my height is 5.9 feet, and it is True that I am a student.\n"
     ]
    }
   ],
   "source": [
    "#4th question\n",
    "name = \"JAIDITHYA\"\n",
    "age = 20\n",
    "height = 5.9\n",
    "is_student = True\n",
    "print(f\"Hello, my name is {name}. I am {age} years old, my height is {height} feet, and it is {is_student} that I am a student.\")"
   ]
  },
  {
   "cell_type": "code",
   "execution_count": 5,
   "id": "d01f68e1-d618-4d8a-96db-bc3e13602c01",
   "metadata": {},
   "outputs": [
    {
     "name": "stdin",
     "output_type": "stream",
     "text": [
      "Enter a number:  2\n"
     ]
    },
    {
     "name": "stdout",
     "output_type": "stream",
     "text": [
      "Positive number\n"
     ]
    }
   ],
   "source": [
    "#5 Question\n",
    "num = float(input(\"Enter a number: \"))\n",
    "if num > 0:\n",
    "   print(\"Positive number\")\n",
    "elif num == 0:\n",
    "   print(\"Zero\")\n",
    "else:\n",
    "   print(\"Negative number\")"
   ]
  },
  {
   "cell_type": "code",
   "execution_count": 7,
   "id": "fa172001-b65b-4f0e-a3be-a156f8b94f4b",
   "metadata": {},
   "outputs": [
    {
     "name": "stdin",
     "output_type": "stream",
     "text": [
      " 9\n"
     ]
    },
    {
     "name": "stdout",
     "output_type": "stream",
     "text": [
      "9 X 1 = 9\n",
      "9 X 2 = 18\n",
      "9 X 3 = 27\n",
      "9 X 4 = 36\n",
      "9 X 5 = 45\n",
      "9 X 6 = 54\n",
      "9 X 7 = 63\n",
      "9 X 8 = 72\n",
      "9 X 9 = 81\n",
      "9 X 10 = 90\n"
     ]
    }
   ],
   "source": [
    "#6th question\n",
    "b=int(input())\n",
    "for i in range(1,11):\n",
    "    y=b*i\n",
    "    print(b,\"X\",i,\"=\",y)"
   ]
  },
  {
   "cell_type": "code",
   "execution_count": 9,
   "id": "d1c53537-295a-4de9-9a08-377fe9b8c77a",
   "metadata": {},
   "outputs": [
    {
     "name": "stdout",
     "output_type": "stream",
     "text": [
      "Apple\n",
      "Sapota\n",
      "['Apple', 'Dragon fruit', 'Papaya', 'Banana']\n"
     ]
    }
   ],
   "source": [
    "#7th question\n",
    "fruits=['Apple','Dragon fruit','Papaya','Banana','Sapota']\n",
    "print(fruits[0])\n",
    "print(fruits[-1])\n",
    "print(fruits[0:4])"
   ]
  },
  {
   "cell_type": "code",
   "execution_count": 13,
   "id": "ebd95155-02d7-4d3d-9f44-074b84c350f6",
   "metadata": {},
   "outputs": [
    {
     "name": "stdout",
     "output_type": "stream",
     "text": [
      "1\n",
      "7.9\n",
      "(3, 5)\n"
     ]
    }
   ],
   "source": [
    "#8th question\n",
    "nu=(1,3,5,7.9)\n",
    "print(nu[0])\n",
    "print(nu[-1])\n",
    "print(nu[1:3])"
   ]
  },
  {
   "cell_type": "code",
   "execution_count": 15,
   "id": "3b085f94-32dc-4376-8a7b-01f90d08f1e8",
   "metadata": {},
   "outputs": [
    {
     "name": "stdout",
     "output_type": "stream",
     "text": [
      "98\n",
      "84\n",
      "dict_keys(['JD', 'JHANS', 'YG'])\n",
      "dict_values([98, 84, 89])\n"
     ]
    }
   ],
   "source": [
    "#9th question\n",
    "Marks={\"JD\": 98, \"JHANS\": 84, \"YG\": 89}\n",
    "print(Marks[\"JD\"])\n",
    "print(Marks.get(\"JHANS\"))\n",
    "print(Marks.keys())\n",
    "print(Marks.values())"
   ]
  },
  {
   "cell_type": "code",
   "execution_count": 17,
   "id": "b6eb15d7-1eef-4a17-88ff-7010d3c887a7",
   "metadata": {},
   "outputs": [
    {
     "name": "stdout",
     "output_type": "stream",
     "text": [
      "374\n",
      "-326\n",
      "0.06857142857142857\n",
      "0\n",
      "8400\n"
     ]
    }
   ],
   "source": [
    "#10th question\n",
    "num1 = 24\n",
    "num2 = 350\n",
    "print(num1 + num2) \n",
    "print(num1 - num2)\n",
    "print(num1 / num2)\n",
    "print(num1//num2)\n",
    "print(num1*num2)"
   ]
  },
  {
   "cell_type": "code",
   "execution_count": 19,
   "id": "6a27ee3c-b425-4ab3-93ea-d186fd6db346",
   "metadata": {},
   "outputs": [
    {
     "data": {
      "text/plain": [
       "7"
      ]
     },
     "execution_count": 19,
     "metadata": {},
     "output_type": "execute_result"
    }
   ],
   "source": [
    "#11th question\n",
    "def find_largest(l1) -> int:\n",
    "  return max(l1)\n",
    "l1 = [2,3,4,5,6,7]\n",
    "find_largest(l1)"
   ]
  },
  {
   "cell_type": "code",
   "execution_count": 21,
   "id": "92a6d2c3-24b8-4fe7-a67a-10ed87c04487",
   "metadata": {},
   "outputs": [
    {
     "data": {
      "text/plain": [
       "[4, 16, 36, 64, 100, 144, 196, 256, 324, 400]"
      ]
     },
     "execution_count": 21,
     "metadata": {},
     "output_type": "execute_result"
    }
   ],
   "source": [
    "#12th question\n",
    "sq= [value**2 for value in range(1 , 21) if value % 2 ==  0 ]\n",
    "sq"
   ]
  },
  {
   "cell_type": "code",
   "execution_count": 23,
   "id": "cbdef17a-7f25-4db1-aa25-2617402f3ca7",
   "metadata": {},
   "outputs": [
    {
     "data": {
      "text/plain": [
       "1512"
      ]
     },
     "execution_count": 23,
     "metadata": {},
     "output_type": "execute_result"
    }
   ],
   "source": [
    "#13th question\n",
    "fun=lambda x,y:x*y\n",
    "fun(36,42)"
   ]
  },
  {
   "cell_type": "code",
   "execution_count": 25,
   "id": "64ee70c9-2cb8-4804-afee-40cb2dcf63e8",
   "metadata": {},
   "outputs": [
    {
     "name": "stdout",
     "output_type": "stream",
     "text": [
      "1D Shape: (5,) Dimensions: 1\n",
      "2D Shape: (2, 3) Dimensions: 2\n",
      "3D Shape: (2, 2, 2) Dimensions: 3\n"
     ]
    }
   ],
   "source": [
    "#14th question\n",
    "import numpy as np\n",
    "a1d = np.array([1, 2, 3, 4, 5])\n",
    "a2d = np.array([[1, 2, 3], [4, 5, 6]])\n",
    "a3d = np.array([[[1, 2], [3, 4]], [[5, 6], [7, 8]]])\n",
    "print(\"1D Shape:\",a1d.shape, \"Dimensions:\", a1d.ndim)\n",
    "print(\"2D Shape:\", a2d.shape, \"Dimensions:\", a2d.ndim)\n",
    "print(\"3D Shape:\", a3d.shape, \"Dimensions:\", a3d.ndim)"
   ]
  },
  {
   "cell_type": "code",
   "execution_count": 27,
   "id": "72f04d61-a504-4060-b822-a34d10cbc134",
   "metadata": {},
   "outputs": [
    {
     "data": {
      "text/plain": [
       "array([[0.9116718 , 0.82135988, 0.56673026, 0.36260357],\n",
       "       [0.42457568, 0.04234665, 0.08211559, 0.85829151],\n",
       "       [0.26781739, 0.321687  , 0.56443211, 0.40701291],\n",
       "       [0.44245487, 0.65863649, 0.90090987, 0.17780337]])"
      ]
     },
     "execution_count": 27,
     "metadata": {},
     "output_type": "execute_result"
    }
   ],
   "source": [
    "#15th question\n",
    "np.random.random((4, 4))"
   ]
  },
  {
   "cell_type": "code",
   "execution_count": 29,
   "id": "77d4b79a-0735-4b94-8255-0c06e90fc013",
   "metadata": {},
   "outputs": [
    {
     "data": {
      "text/plain": [
       "array([[ 5,  6],\n",
       "       [ 9, 10],\n",
       "       [13, 14]])"
      ]
     },
     "execution_count": 29,
     "metadata": {},
     "output_type": "execute_result"
    }
   ],
   "source": [
    "#16th question\n",
    "y=np.arange(1, 17).reshape(4, 4)\n",
    "y[1:,:2]"
   ]
  },
  {
   "cell_type": "code",
   "execution_count": 33,
   "id": "3471a35f-c837-4eef-beb3-bb8bf1a778bb",
   "metadata": {},
   "outputs": [
    {
     "name": "stdout",
     "output_type": "stream",
     "text": [
      "[[ 0  1]\n",
      " [ 2  3]\n",
      " [ 4  5]\n",
      " [ 6  7]\n",
      " [ 8  9]\n",
      " [10 11]] \n",
      "\n",
      "[[[ 0  1]\n",
      "  [ 2  3]\n",
      "  [ 4  5]]\n",
      "\n",
      " [[ 6  7]\n",
      "  [ 8  9]\n",
      "  [10 11]]] \n",
      "\n",
      "[ 0  1  2  3  4  5  6  7  8  9 10 11] \n",
      "\n"
     ]
    }
   ],
   "source": [
    "#17th question\n",
    "a2d = np.arange(12).reshape(6, 2)\n",
    "a3d = a2d.reshape(2, 3, 2)\n",
    "a3= a3d.flatten()\n",
    "print(a2d,\"\\n\")\n",
    "print(a3d,\"\\n\")\n",
    "print(a3,\"\\n\")"
   ]
  },
  {
   "cell_type": "code",
   "execution_count": 39,
   "id": "e643e0c3-cf2d-48ef-9c4f-92776e33fe94",
   "metadata": {},
   "outputs": [
    {
     "data": {
      "text/plain": [
       "array([[ 0,  2,  4],\n",
       "       [ 3,  5,  7],\n",
       "       [ 6,  8, 10]])"
      ]
     },
     "execution_count": 39,
     "metadata": {},
     "output_type": "execute_result"
    }
   ],
   "source": [
    "#18th question\n",
    "arr1 = np.arange(9).reshape(3,3)\n",
    "arr2 = np.arange(3).reshape(1 , 3)\n",
    "arr1 + arr2"
   ]
  },
  {
   "cell_type": "code",
   "execution_count": 41,
   "id": "dab4464e-dba8-4a20-aef7-999b6c8d385e",
   "metadata": {},
   "outputs": [
    {
     "data": {
      "text/plain": [
       "array([[ 0,  2,  4],\n",
       "       [ 6,  8, 10],\n",
       "       [12, 14, 16]])"
      ]
     },
     "execution_count": 41,
     "metadata": {},
     "output_type": "execute_result"
    }
   ],
   "source": [
    "#19th question\n",
    "arr1 = np.arange(9).reshape(3 , 3)\n",
    "arr2 = np.arange(9).reshape(3 , 3)\n",
    "arr1+arr2"
   ]
  },
  {
   "cell_type": "code",
   "execution_count": 43,
   "id": "86f9b1da-d8af-447a-a64f-62f0ca4ac00b",
   "metadata": {},
   "outputs": [
    {
     "data": {
      "text/plain": [
       "array([[ 0,  1,  4],\n",
       "       [ 9, 16, 25],\n",
       "       [36, 49, 64]])"
      ]
     },
     "execution_count": 43,
     "metadata": {},
     "output_type": "execute_result"
    }
   ],
   "source": [
    "arr1*arr2"
   ]
  },
  {
   "cell_type": "code",
   "execution_count": 45,
   "id": "244c651b-4572-4cef-9e04-76ac5c7e95be",
   "metadata": {},
   "outputs": [
    {
     "name": "stderr",
     "output_type": "stream",
     "text": [
      "C:\\Users\\admin\\AppData\\Local\\Temp\\ipykernel_3508\\1293873619.py:1: RuntimeWarning: divide by zero encountered in floor_divide\n",
      "  arr1//arr2\n"
     ]
    },
    {
     "data": {
      "text/plain": [
       "array([[0, 1, 1],\n",
       "       [1, 1, 1],\n",
       "       [1, 1, 1]])"
      ]
     },
     "execution_count": 45,
     "metadata": {},
     "output_type": "execute_result"
    }
   ],
   "source": [
    "arr1//arr2"
   ]
  },
  {
   "cell_type": "code",
   "execution_count": 47,
   "id": "dc157fec-d669-4d32-8709-0fd19d1d6893",
   "metadata": {},
   "outputs": [
    {
     "data": {
      "text/plain": [
       "array([[0, 0, 0],\n",
       "       [0, 0, 0],\n",
       "       [0, 0, 0]])"
      ]
     },
     "execution_count": 47,
     "metadata": {},
     "output_type": "execute_result"
    }
   ],
   "source": [
    "arr1-arr2"
   ]
  },
  {
   "cell_type": "code",
   "execution_count": 49,
   "id": "e361b929-6805-4369-9e9d-125abbc0e842",
   "metadata": {},
   "outputs": [
    {
     "data": {
      "text/html": [
       "<div>\n",
       "<style scoped>\n",
       "    .dataframe tbody tr th:only-of-type {\n",
       "        vertical-align: middle;\n",
       "    }\n",
       "\n",
       "    .dataframe tbody tr th {\n",
       "        vertical-align: top;\n",
       "    }\n",
       "\n",
       "    .dataframe thead th {\n",
       "        text-align: right;\n",
       "    }\n",
       "</style>\n",
       "<table border=\"1\" class=\"dataframe\">\n",
       "  <thead>\n",
       "    <tr style=\"text-align: right;\">\n",
       "      <th></th>\n",
       "      <th>Name</th>\n",
       "      <th>math</th>\n",
       "      <th>ss</th>\n",
       "      <th>DSA</th>\n",
       "    </tr>\n",
       "  </thead>\n",
       "  <tbody>\n",
       "    <tr>\n",
       "      <th>0</th>\n",
       "      <td>JD</td>\n",
       "      <td>72</td>\n",
       "      <td>88</td>\n",
       "      <td>65</td>\n",
       "    </tr>\n",
       "    <tr>\n",
       "      <th>1</th>\n",
       "      <td>VIJAY</td>\n",
       "      <td>64</td>\n",
       "      <td>87</td>\n",
       "      <td>96</td>\n",
       "    </tr>\n",
       "    <tr>\n",
       "      <th>2</th>\n",
       "      <td>AJITH</td>\n",
       "      <td>89</td>\n",
       "      <td>66</td>\n",
       "      <td>55</td>\n",
       "    </tr>\n",
       "  </tbody>\n",
       "</table>\n",
       "</div>"
      ],
      "text/plain": [
       "    Name  math  ss  DSA\n",
       "0     JD    72  88   65\n",
       "1  VIJAY    64  87   96\n",
       "2  AJITH    89  66   55"
      ]
     },
     "execution_count": 49,
     "metadata": {},
     "output_type": "execute_result"
    }
   ],
   "source": [
    "#20th question\n",
    "import pandas as pd\n",
    "d={\"Name\" : [\"JD\" , \"VIJAY\" , \"AJITH\"] ,\n",
    "      \"math\" : [72,64,89] , \n",
    "      \"ss\" : [88,87,66] ,\n",
    "      \"DSA\" : [65,96,55]}\n",
    "df= pd.DataFrame(d)\n",
    "df"
   ]
  },
  {
   "cell_type": "code",
   "execution_count": 51,
   "id": "cc91d64f-ebd4-4bd1-a1ce-3582efe69fb8",
   "metadata": {},
   "outputs": [
    {
     "data": {
      "text/html": [
       "<div>\n",
       "<style scoped>\n",
       "    .dataframe tbody tr th:only-of-type {\n",
       "        vertical-align: middle;\n",
       "    }\n",
       "\n",
       "    .dataframe tbody tr th {\n",
       "        vertical-align: top;\n",
       "    }\n",
       "\n",
       "    .dataframe thead th {\n",
       "        text-align: right;\n",
       "    }\n",
       "</style>\n",
       "<table border=\"1\" class=\"dataframe\">\n",
       "  <thead>\n",
       "    <tr style=\"text-align: right;\">\n",
       "      <th></th>\n",
       "      <th>Name</th>\n",
       "      <th>math</th>\n",
       "      <th>ss</th>\n",
       "      <th>DSA</th>\n",
       "      <th>Total</th>\n",
       "    </tr>\n",
       "  </thead>\n",
       "  <tbody>\n",
       "    <tr>\n",
       "      <th>0</th>\n",
       "      <td>JD</td>\n",
       "      <td>72</td>\n",
       "      <td>88</td>\n",
       "      <td>65</td>\n",
       "      <td>225</td>\n",
       "    </tr>\n",
       "    <tr>\n",
       "      <th>1</th>\n",
       "      <td>VIJAY</td>\n",
       "      <td>64</td>\n",
       "      <td>87</td>\n",
       "      <td>96</td>\n",
       "      <td>247</td>\n",
       "    </tr>\n",
       "    <tr>\n",
       "      <th>2</th>\n",
       "      <td>AJITH</td>\n",
       "      <td>89</td>\n",
       "      <td>66</td>\n",
       "      <td>55</td>\n",
       "      <td>210</td>\n",
       "    </tr>\n",
       "  </tbody>\n",
       "</table>\n",
       "</div>"
      ],
      "text/plain": [
       "    Name  math  ss  DSA  Total\n",
       "0     JD    72  88   65    225\n",
       "1  VIJAY    64  87   96    247\n",
       "2  AJITH    89  66   55    210"
      ]
     },
     "execution_count": 51,
     "metadata": {},
     "output_type": "execute_result"
    }
   ],
   "source": [
    "df['Total'] = df.math + df.ss + df.DSA\n",
    "df"
   ]
  },
  {
   "cell_type": "code",
   "execution_count": 53,
   "id": "7d477892-ceff-41ae-ad86-db7253b6c71b",
   "metadata": {},
   "outputs": [
    {
     "data": {
      "text/html": [
       "<div>\n",
       "<style scoped>\n",
       "    .dataframe tbody tr th:only-of-type {\n",
       "        vertical-align: middle;\n",
       "    }\n",
       "\n",
       "    .dataframe tbody tr th {\n",
       "        vertical-align: top;\n",
       "    }\n",
       "\n",
       "    .dataframe thead th {\n",
       "        text-align: right;\n",
       "    }\n",
       "</style>\n",
       "<table border=\"1\" class=\"dataframe\">\n",
       "  <thead>\n",
       "    <tr style=\"text-align: right;\">\n",
       "      <th></th>\n",
       "      <th>Name</th>\n",
       "      <th>math</th>\n",
       "      <th>ss</th>\n",
       "      <th>DSA</th>\n",
       "      <th>Total</th>\n",
       "      <th>Grade</th>\n",
       "    </tr>\n",
       "  </thead>\n",
       "  <tbody>\n",
       "    <tr>\n",
       "      <th>0</th>\n",
       "      <td>JD</td>\n",
       "      <td>72</td>\n",
       "      <td>88</td>\n",
       "      <td>65</td>\n",
       "      <td>225</td>\n",
       "      <td>B</td>\n",
       "    </tr>\n",
       "    <tr>\n",
       "      <th>1</th>\n",
       "      <td>VIJAY</td>\n",
       "      <td>64</td>\n",
       "      <td>87</td>\n",
       "      <td>96</td>\n",
       "      <td>247</td>\n",
       "      <td>B</td>\n",
       "    </tr>\n",
       "    <tr>\n",
       "      <th>2</th>\n",
       "      <td>AJITH</td>\n",
       "      <td>89</td>\n",
       "      <td>66</td>\n",
       "      <td>55</td>\n",
       "      <td>210</td>\n",
       "      <td>B</td>\n",
       "    </tr>\n",
       "  </tbody>\n",
       "</table>\n",
       "</div>"
      ],
      "text/plain": [
       "    Name  math  ss  DSA  Total Grade\n",
       "0     JD    72  88   65    225     B\n",
       "1  VIJAY    64  87   96    247     B\n",
       "2  AJITH    89  66   55    210     B"
      ]
     },
     "execution_count": 53,
     "metadata": {},
     "output_type": "execute_result"
    }
   ],
   "source": [
    "df['Grade'] = df.Total > 275\n",
    "df.Grade = np.where(df.Grade == True , 'A' , 'B')\n",
    "df"
   ]
  },
  {
   "cell_type": "code",
   "execution_count": null,
   "id": "10235a03-40df-4c54-81ee-89392a0b24bb",
   "metadata": {},
   "outputs": [],
   "source": []
  }
 ],
 "metadata": {
  "kernelspec": {
   "display_name": "Python [conda env:base] *",
   "language": "python",
   "name": "conda-base-py"
  },
  "language_info": {
   "codemirror_mode": {
    "name": "ipython",
    "version": 3
   },
   "file_extension": ".py",
   "mimetype": "text/x-python",
   "name": "python",
   "nbconvert_exporter": "python",
   "pygments_lexer": "ipython3",
   "version": "3.12.7"
  }
 },
 "nbformat": 4,
 "nbformat_minor": 5
}
